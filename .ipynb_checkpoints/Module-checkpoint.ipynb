{
 "cells": [
  {
   "cell_type": "code",
   "execution_count": 5,
   "id": "1f3fa38f",
   "metadata": {},
   "outputs": [],
   "source": [
    "#더하기 해주는 함수 \n",
    "def add_num (num1, num2) : \n",
    "    return num1+num2"
   ]
  },
  {
   "cell_type": "code",
   "execution_count": 6,
   "id": "55d4b9c3",
   "metadata": {},
   "outputs": [],
   "source": [
    "# 빼기 해주는 함수\n",
    "def sub_num (num1,num2) :\n",
    "    return num1-num2"
   ]
  },
  {
   "cell_type": "code",
   "execution_count": 1,
   "id": "9f7f572f",
   "metadata": {},
   "outputs": [],
   "source": []
  },
  {
   "cell_type": "code",
   "execution_count": null,
   "id": "7ee895fe",
   "metadata": {},
   "outputs": [],
   "source": []
  }
 ],
 "metadata": {
  "kernelspec": {
   "display_name": "Python 3 (ipykernel)",
   "language": "python",
   "name": "python3"
  },
  "language_info": {
   "codemirror_mode": {
    "name": "ipython",
    "version": 3
   },
   "file_extension": ".py",
   "mimetype": "text/x-python",
   "name": "python",
   "nbconvert_exporter": "python",
   "pygments_lexer": "ipython3",
   "version": "3.9.12"
  }
 },
 "nbformat": 4,
 "nbformat_minor": 5
}
