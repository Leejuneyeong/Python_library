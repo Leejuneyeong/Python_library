{
 "cells": [
  {
   "cell_type": "code",
   "execution_count": 1,
   "id": "f3bd59cc",
   "metadata": {},
   "outputs": [],
   "source": [
    "#라이브러리 로딩하기\n",
    "import numpy as np"
   ]
  },
  {
   "cell_type": "markdown",
   "id": "0fc15a60",
   "metadata": {},
   "source": [
    "### ndarray 생성하기(1차원)"
   ]
  },
  {
   "cell_type": "code",
   "execution_count": 2,
   "id": "3fb51366",
   "metadata": {},
   "outputs": [
    {
     "data": {
      "text/plain": [
       "[1, 2, 3, 4, 5]"
      ]
     },
     "execution_count": 2,
     "metadata": {},
     "output_type": "execute_result"
    }
   ],
   "source": [
    "list1 = [1,2,3,4,5]\n",
    "list1"
   ]
  },
  {
   "cell_type": "code",
   "execution_count": 3,
   "id": "dfee5396",
   "metadata": {},
   "outputs": [
    {
     "data": {
      "text/plain": [
       "array([1, 2, 3, 4, 5])"
      ]
     },
     "execution_count": 3,
     "metadata": {},
     "output_type": "execute_result"
    }
   ],
   "source": [
    "# 앞쪽에 array 하고 소괄호 안쪽에 데이터가 들어가 있는 형태를 numpy 배열 이라고 한다.\n",
    "arr1 = np.array(list1)\n",
    "arr1"
   ]
  },
  {
   "cell_type": "markdown",
   "id": "a792e00f",
   "metadata": {},
   "source": [
    "### ndarray 생성하기(2차원)"
   ]
  },
  {
   "cell_type": "code",
   "execution_count": 4,
   "id": "971f7bd7",
   "metadata": {},
   "outputs": [
    {
     "data": {
      "text/plain": [
       "array([[1, 2, 3],\n",
       "       [4, 5, 6]])"
      ]
     },
     "execution_count": 4,
     "metadata": {},
     "output_type": "execute_result"
    }
   ],
   "source": [
    "#가로축 -> 행, 세로축 -> 열\n",
    "arr2 = np.array([[1,2,3],[4,5,6]])\n",
    "arr2"
   ]
  },
  {
   "cell_type": "code",
   "execution_count": 5,
   "id": "6fc5a9c0",
   "metadata": {},
   "outputs": [
    {
     "data": {
      "text/plain": [
       "array([[[ 1,  2,  3],\n",
       "        [ 4,  5,  6]],\n",
       "\n",
       "       [[ 7,  8,  9],\n",
       "        [10, 11, 12]]])"
      ]
     },
     "execution_count": 5,
     "metadata": {},
     "output_type": "execute_result"
    }
   ],
   "source": [
    "#3차원 \n",
    "arr3 = np.array([[[1,2,3],[4,5,6]] , [[7,8,9],[10,11,12]]])\n",
    "arr3"
   ]
  },
  {
   "cell_type": "markdown",
   "id": "d45e856c",
   "metadata": {},
   "source": [
    "### ndarray 객체의 속성을 활용해서 자료구조 파악하기!\n",
    "- 배열의 크기 확인하기 : shape"
   ]
  },
  {
   "cell_type": "code",
   "execution_count": 6,
   "id": "945fc4a1",
   "metadata": {},
   "outputs": [
    {
     "name": "stdout",
     "output_type": "stream",
     "text": [
      "(5,)\n",
      "(2, 3)\n"
     ]
    }
   ],
   "source": [
    "#배열명.shape \n",
    "print(arr1.shape) # 1차원은 -> 데이터의 개수 \n",
    "print(arr2.shape) # 2차원은 -> (행,열) "
   ]
  },
  {
   "cell_type": "markdown",
   "id": "559cdb80",
   "metadata": {},
   "source": [
    "- 배열의 요소개수 확인하기 : size"
   ]
  },
  {
   "cell_type": "code",
   "execution_count": 7,
   "id": "de5e4b45",
   "metadata": {},
   "outputs": [
    {
     "name": "stdout",
     "output_type": "stream",
     "text": [
      "5\n",
      "6\n"
     ]
    }
   ],
   "source": [
    "print(arr1.size)\n",
    "print(arr2.size)"
   ]
  },
  {
   "cell_type": "markdown",
   "id": "3c0ba046",
   "metadata": {},
   "source": [
    "- 배열의 차원 확인하기 : ndim"
   ]
  },
  {
   "cell_type": "code",
   "execution_count": 8,
   "id": "1077fb04",
   "metadata": {},
   "outputs": [
    {
     "name": "stdout",
     "output_type": "stream",
     "text": [
      "1\n",
      "2\n"
     ]
    }
   ],
   "source": [
    "# 배열명.ndim\n",
    "print(arr1.ndim)\n",
    "print(arr2.ndim)"
   ]
  },
  {
   "cell_type": "markdown",
   "id": "90a052ed",
   "metadata": {},
   "source": [
    "- 배열의 타입 확인하기 : dtype"
   ]
  },
  {
   "cell_type": "code",
   "execution_count": 9,
   "id": "8f8127d6",
   "metadata": {},
   "outputs": [
    {
     "name": "stdout",
     "output_type": "stream",
     "text": [
      "int32\n",
      "int32\n"
     ]
    }
   ],
   "source": [
    "print(arr1.dtype)\n",
    "print(arr2.dtype)"
   ]
  },
  {
   "cell_type": "code",
   "execution_count": 10,
   "id": "adba7e14",
   "metadata": {},
   "outputs": [
    {
     "name": "stdout",
     "output_type": "stream",
     "text": [
      "배열의 크기 : (2, 2, 3)\n",
      "\n",
      "배열의 차원 : 3\n",
      "배열의 개수 : 12\n"
     ]
    }
   ],
   "source": [
    "print(f'배열의 크기 : {arr3.shape}\\n') \n",
    "print(f'배열의 차원 : {arr3.ndim}') \n",
    "print(f'배열의 개수 : {arr3.size}')"
   ]
  },
  {
   "cell_type": "markdown",
   "id": "37334fc6",
   "metadata": {},
   "source": [
    "### 특정한 값으로 배열 생성하기\n",
    "- 배열 안에 있는 값들을 특정한 값으로 초기화 하면서 생성하기"
   ]
  },
  {
   "cell_type": "code",
   "execution_count": 11,
   "id": "c338bee2",
   "metadata": {},
   "outputs": [
    {
     "data": {
      "text/plain": [
       "array([[0., 0., 0.],\n",
       "       [0., 0., 0.]])"
      ]
     },
     "execution_count": 11,
     "metadata": {},
     "output_type": "execute_result"
    }
   ],
   "source": [
    "#배열의 값을 0으로 초기화하면서 생성하기 # 튜플형식으로 적어야함 (())\n",
    "arr_zero=np.zeros((2,3)) # 2차원배열 생성시 (행,열)\n",
    "arr_zero"
   ]
  },
  {
   "cell_type": "code",
   "execution_count": 12,
   "id": "b0d30627",
   "metadata": {},
   "outputs": [
    {
     "data": {
      "text/plain": [
       "array([0., 0., 0.])"
      ]
     },
     "execution_count": 12,
     "metadata": {},
     "output_type": "execute_result"
    }
   ],
   "source": [
    "# 데이터를 하나만 넣으면? 1차원 배열의 개수이다\n",
    "np.zeros(3)"
   ]
  },
  {
   "cell_type": "code",
   "execution_count": 13,
   "id": "93f01ed4",
   "metadata": {},
   "outputs": [
    {
     "data": {
      "text/plain": [
       "array([[1., 1., 1.],\n",
       "       [1., 1., 1.]])"
      ]
     },
     "execution_count": 13,
     "metadata": {},
     "output_type": "execute_result"
    }
   ],
   "source": [
    "# 배열안의 모든값들을 1로 초기화하면서 생성하기\n",
    "np.ones((2,3))"
   ]
  },
  {
   "cell_type": "code",
   "execution_count": 14,
   "id": "a1afd8e2",
   "metadata": {},
   "outputs": [
    {
     "data": {
      "text/plain": [
       "array([[7, 7, 7],\n",
       "       [7, 7, 7]])"
      ]
     },
     "execution_count": 14,
     "metadata": {},
     "output_type": "execute_result"
    }
   ],
   "source": [
    "# 배열안의 모든 값들을 내가 원하는 값으로 초기화하면서 생성하기\n",
    "# np.full((행,열),내가원하는 값)\n",
    "np.full((2,3),7)"
   ]
  },
  {
   "cell_type": "markdown",
   "id": "a3992a63",
   "metadata": {},
   "source": [
    "- 1부터 50까지 숫자데이터를 가지고 있는 1차원 arr4 생성"
   ]
  },
  {
   "cell_type": "code",
   "execution_count": 15,
   "id": "37ba7b8d",
   "metadata": {},
   "outputs": [
    {
     "data": {
      "text/plain": [
       "array([ 1,  2,  3,  4,  5,  6,  7,  8,  9, 10, 11, 12, 13, 14, 15, 16, 17,\n",
       "       18, 19, 20, 21, 22, 23, 24, 25, 26, 27, 28, 29, 30, 31, 32, 33, 34,\n",
       "       35, 36, 37, 38, 39, 40, 41, 42, 43, 44, 45, 46, 47, 48, 49, 50])"
      ]
     },
     "execution_count": 15,
     "metadata": {},
     "output_type": "execute_result"
    }
   ],
   "source": [
    "list2=[]\n",
    "for i in range(1,51) :\n",
    "    list2.append(i)\n",
    "    \n",
    "arr4 = np.array(list2)\n",
    "arr4"
   ]
  },
  {
   "cell_type": "code",
   "execution_count": 16,
   "id": "5c55c6ff",
   "metadata": {},
   "outputs": [
    {
     "data": {
      "text/plain": [
       "array([ 1,  2,  3,  4,  5,  6,  7,  8,  9, 10, 11, 12, 13, 14, 15, 16, 17,\n",
       "       18, 19, 20, 21, 22, 23, 24, 25, 26, 27, 28, 29, 30, 31, 32, 33, 34,\n",
       "       35, 36, 37, 38, 39, 40, 41, 42, 43, 44, 45, 46, 47, 48, 49, 50])"
      ]
     },
     "execution_count": 16,
     "metadata": {},
     "output_type": "execute_result"
    }
   ],
   "source": [
    "# arange(시작값, 끝값+1, 증감값)\n",
    "arr5 = np.arange(1,51,1)\n",
    "arr5"
   ]
  },
  {
   "cell_type": "code",
   "execution_count": 17,
   "id": "3ce092d1",
   "metadata": {},
   "outputs": [
    {
     "data": {
      "text/plain": [
       "array([ 1,  5,  9, 13, 17, 21, 25, 29, 33, 37, 41, 45, 49])"
      ]
     },
     "execution_count": 17,
     "metadata": {},
     "output_type": "execute_result"
    }
   ],
   "source": [
    "#1부터 50까지 4씩 증가하는 arr6생성\n",
    "arr6 = np.arange(1,51,4)\n",
    "arr6"
   ]
  },
  {
   "cell_type": "markdown",
   "id": "b8411d78",
   "metadata": {},
   "source": [
    "- 랜덤값 집어넣어서 배열 생성하기"
   ]
  },
  {
   "cell_type": "code",
   "execution_count": 18,
   "id": "f8c03736",
   "metadata": {},
   "outputs": [
    {
     "data": {
      "text/plain": [
       "array([[8, 6, 4],\n",
       "       [3, 6, 5]])"
      ]
     },
     "execution_count": 18,
     "metadata": {},
     "output_type": "execute_result"
    }
   ],
   "source": [
    "# np.random.randint(시작값, 끝값+1, size = 배열의 크기)\n",
    "arr_ran=np.random.randint(2,10, size = (2,3))\n",
    "arr_ran"
   ]
  },
  {
   "cell_type": "code",
   "execution_count": 19,
   "id": "50a69fce",
   "metadata": {},
   "outputs": [
    {
     "data": {
      "text/plain": [
       "4"
      ]
     },
     "execution_count": 19,
     "metadata": {},
     "output_type": "execute_result"
    }
   ],
   "source": [
    "#size를 적어주지 않을 경우에는? -> 1차원 배열이 생성된다.\n",
    "np.random.randint(2,10)"
   ]
  },
  {
   "cell_type": "markdown",
   "id": "487598e4",
   "metadata": {},
   "source": [
    "- 배열의 타입을 지정하면서 배열 생성하기!\n",
    "\n",
    "- 배열의 타입 변경하기\n",
    "    - 배열명.astype(타입)"
   ]
  },
  {
   "cell_type": "code",
   "execution_count": 20,
   "id": "9aebefd4",
   "metadata": {},
   "outputs": [
    {
     "data": {
      "text/plain": [
       "array([1, 2], dtype=int64)"
      ]
     },
     "execution_count": 20,
     "metadata": {},
     "output_type": "execute_result"
    }
   ],
   "source": [
    "# 내가 원하는 배열의 타입으로 지정해서 생성!\n",
    "arr_type=np.array([1.1,2.2], dtype=np.int64)\n",
    "arr_type"
   ]
  },
  {
   "cell_type": "code",
   "execution_count": 21,
   "id": "033a3879",
   "metadata": {},
   "outputs": [
    {
     "data": {
      "text/plain": [
       "array([1., 2.])"
      ]
     },
     "execution_count": 21,
     "metadata": {},
     "output_type": "execute_result"
    }
   ],
   "source": [
    "# 배열의 타입 변경하기\n",
    "arr_type.astype('float64')"
   ]
  },
  {
   "cell_type": "markdown",
   "id": "06d64e92",
   "metadata": {},
   "source": [
    " ### Array 연산\n",
    " - numpy는 기본적으로 array 간의 연산을 지원해준다 ( 요소별 연산 )\n",
    " - 행과 열이 같은 위치값이 연산이 된다 ex) [1,2,3] + [4,5,6] = [5,7,9]"
   ]
  },
  {
   "cell_type": "code",
   "execution_count": 22,
   "id": "149ff2e1",
   "metadata": {},
   "outputs": [
    {
     "data": {
      "text/plain": [
       "array([1, 2, 3])"
      ]
     },
     "execution_count": 22,
     "metadata": {},
     "output_type": "execute_result"
    }
   ],
   "source": [
    "arr_a = np.array([1,2,3])\n",
    "arr_a"
   ]
  },
  {
   "cell_type": "code",
   "execution_count": 23,
   "id": "177a7f4b",
   "metadata": {},
   "outputs": [
    {
     "data": {
      "text/plain": [
       "array([4, 5, 6])"
      ]
     },
     "execution_count": 23,
     "metadata": {},
     "output_type": "execute_result"
    }
   ],
   "source": [
    "arr_b = np.array([4,5,6])\n",
    "arr_b"
   ]
  },
  {
   "cell_type": "code",
   "execution_count": 24,
   "id": "4b2847cf",
   "metadata": {},
   "outputs": [
    {
     "data": {
      "text/plain": [
       "array([5, 7, 9])"
      ]
     },
     "execution_count": 24,
     "metadata": {},
     "output_type": "execute_result"
    }
   ],
   "source": [
    "arr_a+arr_b"
   ]
  },
  {
   "cell_type": "code",
   "execution_count": 25,
   "id": "2c220aca",
   "metadata": {},
   "outputs": [
    {
     "data": {
      "text/plain": [
       "array([ 4, 10, 18])"
      ]
     },
     "execution_count": 25,
     "metadata": {},
     "output_type": "execute_result"
    }
   ],
   "source": [
    "arr_a*arr_b"
   ]
  },
  {
   "cell_type": "code",
   "execution_count": 26,
   "id": "a4a49106",
   "metadata": {},
   "outputs": [
    {
     "data": {
      "text/plain": [
       "array([1, 2, 3, 4, 5])"
      ]
     },
     "execution_count": 26,
     "metadata": {},
     "output_type": "execute_result"
    }
   ],
   "source": [
    "arr_c = np.array([1,2,3,4,5])\n",
    "arr_c"
   ]
  },
  {
   "cell_type": "code",
   "execution_count": 27,
   "id": "545c61f5",
   "metadata": {},
   "outputs": [
    {
     "ename": "ValueError",
     "evalue": "operands could not be broadcast together with shapes (3,) (5,) ",
     "output_type": "error",
     "traceback": [
      "\u001b[1;31m---------------------------------------------------------------------------\u001b[0m",
      "\u001b[1;31mValueError\u001b[0m                                Traceback (most recent call last)",
      "Input \u001b[1;32mIn [27]\u001b[0m, in \u001b[0;36m<cell line: 2>\u001b[1;34m()\u001b[0m\n\u001b[0;32m      1\u001b[0m \u001b[38;5;66;03m# 덧셈과 뺼셈에서는 기본적으로 두행렬의 크기가 같아야 한다!\u001b[39;00m\n\u001b[1;32m----> 2\u001b[0m \u001b[43marr_a\u001b[49m\u001b[38;5;241;43m+\u001b[39;49m\u001b[43marr_c\u001b[49m\n",
      "\u001b[1;31mValueError\u001b[0m: operands could not be broadcast together with shapes (3,) (5,) "
     ]
    }
   ],
   "source": [
    "# 덧셈과 뺼셈에서는 기본적으로 두행렬의 크기가 같아야 한다!\n",
    "arr_a+arr_c #<- 오류"
   ]
  },
  {
   "cell_type": "code",
   "execution_count": null,
   "id": "9f775ab7",
   "metadata": {},
   "outputs": [],
   "source": [
    "#2차원 배열 연산\n",
    "arr2_a=np.array([[1,2,3],[4,5,6]]) # <- 2차원은 대괄호 2개\n",
    "\n",
    "arr2_b=np.array([[7,8,9],[10,11,12]])"
   ]
  },
  {
   "cell_type": "code",
   "execution_count": null,
   "id": "b33ecfd0",
   "metadata": {},
   "outputs": [],
   "source": [
    "arr2_a+arr2_b"
   ]
  },
  {
   "cell_type": "code",
   "execution_count": null,
   "id": "62402020",
   "metadata": {},
   "outputs": [],
   "source": [
    "#배열+ 숫자 = ?\n",
    "arr2_a+5 #<- 각 요소에 5를 더해지게 됨"
   ]
  },
  {
   "cell_type": "code",
   "execution_count": null,
   "id": "956adfac",
   "metadata": {},
   "outputs": [],
   "source": [
    "arr2_b*2 #<- 각 요소에 2를 곱해지게 됨"
   ]
  },
  {
   "cell_type": "markdown",
   "id": "c5a444db",
   "metadata": {},
   "source": [
    " ### 인덱싱, 슬라이싱\n",
    " - 인덱싱 : 하나의 결과값을 가져오고 싶을 때 사용\n",
    " - 슬라이싱 : 여러개의 결과값을 가져오고 싶을 때 사용"
   ]
  },
  {
   "cell_type": "markdown",
   "id": "17c59aba",
   "metadata": {},
   "source": [
    "##### 인덱싱"
   ]
  },
  {
   "cell_type": "code",
   "execution_count": null,
   "id": "d9404456",
   "metadata": {},
   "outputs": [],
   "source": [
    "# 1차원 배열 인덱싱\n",
    "arr_1 = np.array([0,1,2,3,4,5,6])\n",
    "arr_1"
   ]
  },
  {
   "cell_type": "code",
   "execution_count": null,
   "id": "b56b00c2",
   "metadata": {},
   "outputs": [],
   "source": [
    "# 숫자 2 인덱싱\n",
    "arr_1[2]"
   ]
  },
  {
   "cell_type": "code",
   "execution_count": null,
   "id": "a47af000",
   "metadata": {},
   "outputs": [],
   "source": [
    "# 2차원 배열 인덱싱하기!\n",
    "arr_2 = np.array([[1,2,3],[4,5,6]])\n",
    "arr_2"
   ]
  },
  {
   "cell_type": "code",
   "execution_count": null,
   "id": "2fd1c60a",
   "metadata": {},
   "outputs": [],
   "source": [
    "# 0행 가져오기 -> 2차원 배열에서 하나만 적어주면 행 인덱싱\n",
    "arr_2[0]"
   ]
  },
  {
   "cell_type": "code",
   "execution_count": null,
   "id": "2e98b30c",
   "metadata": {},
   "outputs": [],
   "source": [
    "# 숫자 2 가져오기\n",
    "arr_2[0][1]"
   ]
  },
  {
   "cell_type": "code",
   "execution_count": null,
   "id": "040dfd3e",
   "metadata": {},
   "outputs": [],
   "source": [
    "# 0행 1열 가져오는 또 다른 방법! # 이 방법은 np.array([][]) 방식으로 만들어야 되는 기능임\n",
    "arr_2[0,1]\n",
    "# 컴마를 기준으로 앞이 행 뒤가 열을 의미한다!"
   ]
  },
  {
   "cell_type": "code",
   "execution_count": null,
   "id": "4efe689d",
   "metadata": {},
   "outputs": [],
   "source": [
    "list_3 = [[1,2,3,4,5,6], \n",
    "          [7,7,8,9,10,11,12]] \n",
    "# <- 이건 numpy 배열이 아님 그냥 리스트임\n",
    "arr_3=[[1,2,3,4,5,6], \n",
    "          [7,7,8,9,10,11,12]] \n",
    "\n",
    "list_3 = np.array([[1,2,3,4,5,6], \n",
    "          [7,7,8,9,10,11,12]])\n",
    "list_3"
   ]
  },
  {
   "cell_type": "code",
   "execution_count": null,
   "id": "924c3cf4",
   "metadata": {},
   "outputs": [],
   "source": [
    "# 숫자 9 가져오기\n",
    "arr_3[1][3]\n"
   ]
  },
  {
   "cell_type": "markdown",
   "id": "9a5138d0",
   "metadata": {},
   "source": [
    "### 슬라이싱"
   ]
  },
  {
   "cell_type": "code",
   "execution_count": null,
   "id": "ac6593e7",
   "metadata": {},
   "outputs": [],
   "source": [
    "# 0부터 9까지 1씩 증가하는 1차원 배열 생성\n",
    "arr_4 = np.arange(0,10,1)\n",
    "arr_4"
   ]
  },
  {
   "cell_type": "code",
   "execution_count": null,
   "id": "57ddd917",
   "metadata": {},
   "outputs": [],
   "source": [
    "# 2번 ~ 5번까지 슬라이싱\n",
    "# 배열명[시작:끝+1]\n",
    "arr_4[2:6]"
   ]
  },
  {
   "cell_type": "code",
   "execution_count": null,
   "id": "f1d83296",
   "metadata": {},
   "outputs": [],
   "source": [
    "#특정 인덱스 부터 끝까지 가져오고 싶을 때 ! [ 시작인덱스 : ]\n",
    "#3부터 끝까지\n",
    "arr_4[3:]"
   ]
  },
  {
   "cell_type": "code",
   "execution_count": null,
   "id": "aa51dc84",
   "metadata": {},
   "outputs": [],
   "source": [
    "# 처음부터 특정인덱스까지 가져오고 싶을 때? [ : 끝 인덱스 ]\n",
    "arr_4[:5]"
   ]
  },
  {
   "cell_type": "code",
   "execution_count": null,
   "id": "8b648407",
   "metadata": {},
   "outputs": [],
   "source": [
    "# 전체 데이터 가져오고 싶을 때는?\n",
    "arr_4[:]"
   ]
  },
  {
   "cell_type": "code",
   "execution_count": null,
   "id": "26a7e84a",
   "metadata": {},
   "outputs": [],
   "source": [
    "arr_4"
   ]
  },
  {
   "cell_type": "code",
   "execution_count": null,
   "id": "23ad5986",
   "metadata": {},
   "outputs": [],
   "source": [
    "# 슬라이싱한 곳에 한번에 데이터 넣기!\n",
    "arr_4[2:5] = 7"
   ]
  },
  {
   "cell_type": "code",
   "execution_count": null,
   "id": "fef4ffdb",
   "metadata": {},
   "outputs": [],
   "source": [
    "arr_4"
   ]
  },
  {
   "cell_type": "code",
   "execution_count": null,
   "id": "08e6c92f",
   "metadata": {},
   "outputs": [],
   "source": [
    "## 1부터 50까지 1차원 배열 생성하기 \n",
    "# 배열명.reshape(행,열) -> 배열의 크기를 재배열\n",
    "arr_5 = np.arange(1,51,1).reshape(5,10)\n",
    "arr_5"
   ]
  },
  {
   "cell_type": "code",
   "execution_count": null,
   "id": "a68dbb14",
   "metadata": {},
   "outputs": [],
   "source": [
    "# 정확하게 모를 때는 -1 적어주기!\n",
    "arr_5 = np.arange(1,51,1).reshape(5,-1)\n",
    "arr_5"
   ]
  },
  {
   "cell_type": "code",
   "execution_count": null,
   "id": "76c1730c",
   "metadata": {},
   "outputs": [],
   "source": [
    "# 2행 15 16 17 만 가져오는 슬라이싱기법\n",
    "arr_5[1][4:7]\n",
    "# arr_5[1,4:7] <- 이 방법도 됨"
   ]
  },
  {
   "cell_type": "code",
   "execution_count": null,
   "id": "2e243777",
   "metadata": {},
   "outputs": [],
   "source": [
    "arr_5[1,4:7]"
   ]
  },
  {
   "cell_type": "code",
   "execution_count": null,
   "id": "ef3cd9ed",
   "metadata": {},
   "outputs": [],
   "source": [
    "# 전체행의 0열만 출력해오기!\n",
    "arr_5[:,0] # arr_5[:] < - 전체 행 // arr_5[,0] <- 1열"
   ]
  },
  {
   "cell_type": "code",
   "execution_count": null,
   "id": "98c8ec54",
   "metadata": {},
   "outputs": [],
   "source": [
    "arr_5"
   ]
  },
  {
   "cell_type": "code",
   "execution_count": null,
   "id": "0fc83a07",
   "metadata": {},
   "outputs": [],
   "source": [
    "# 3행의 전체열 출력 arr_5[행 , 열]\n",
    "arr_5[3,:]"
   ]
  },
  {
   "cell_type": "code",
   "execution_count": null,
   "id": "9bdfc354",
   "metadata": {},
   "outputs": [],
   "source": [
    "arr_5"
   ]
  },
  {
   "cell_type": "code",
   "execution_count": null,
   "id": "5e3a6bd4",
   "metadata": {},
   "outputs": [],
   "source": [
    "# 전체 행의 0렬부터 2열까지 출력\n",
    "arr_5[:,:3]"
   ]
  },
  {
   "cell_type": "code",
   "execution_count": null,
   "id": "81f714ec",
   "metadata": {},
   "outputs": [],
   "source": [
    "# 22,33 만 가져오기 == [[행,행][열,열]]\n",
    "arr_5[[2,3],[1,2]]"
   ]
  },
  {
   "cell_type": "code",
   "execution_count": null,
   "id": "61ea76b1",
   "metadata": {},
   "outputs": [],
   "source": [
    "# 11 22 33 = [[행,행,행],[열,열,열]]\n",
    "arr_5[[1,2,3],[0,1,2]]"
   ]
  },
  {
   "cell_type": "markdown",
   "id": "c2735e74",
   "metadata": {},
   "source": [
    "### BMI 계산 실습"
   ]
  },
  {
   "cell_type": "code",
   "execution_count": null,
   "id": "08827dfe",
   "metadata": {},
   "outputs": [],
   "source": [
    "# txt 파일 불러오는 방법\n",
    "data = np.loadtxt('height_weight(p).txt', delimiter = ',') \n",
    "# delimiter -> 데이터가 어떤 기호로 구분되어 있는 지 알려주는 속성"
   ]
  },
  {
   "cell_type": "code",
   "execution_count": null,
   "id": "aafffd89",
   "metadata": {},
   "outputs": [],
   "source": [
    "data.shape # shape= 몇행 몇열인지 알려주는 함수"
   ]
  },
  {
   "cell_type": "code",
   "execution_count": null,
   "id": "f3541819",
   "metadata": {},
   "outputs": [],
   "source": [
    "data"
   ]
  },
  {
   "cell_type": "code",
   "execution_count": null,
   "id": "83627088",
   "metadata": {},
   "outputs": [],
   "source": [
    "# BMI 지수 = 몸무게(kg) / 키(m)*키(m)\n",
    "\n",
    "# 1. 키데이터 가져오기 - m 변수에 담아주기\n",
    "\n",
    "# 2. 몸무게 데이터 가져오기 - kg 변수에 담아주기\n",
    "\n",
    "# 3. 키 데이터 변환 (키 *0.01)\n",
    "\n",
    "# 4. 몸무게 데이터 변환 (몸무게/2.204) : 파운드 -> kg\n",
    "\n",
    "# 5. BMI 지수 구해주기"
   ]
  },
  {
   "cell_type": "code",
   "execution_count": null,
   "id": "ffed34ad",
   "metadata": {},
   "outputs": [],
   "source": [
    "# 1. 키데이터 가져오기 - m 변수에 담아주기\n",
    "m=data[0]\n",
    "m"
   ]
  },
  {
   "cell_type": "code",
   "execution_count": null,
   "id": "bce99ba2",
   "metadata": {},
   "outputs": [],
   "source": [
    "# 2. 몸무게 데이터 가져오기 - kg 변수에 담아주기\n",
    "kg=data[1]\n",
    "kg"
   ]
  },
  {
   "cell_type": "code",
   "execution_count": null,
   "id": "1ef0f268",
   "metadata": {},
   "outputs": [],
   "source": [
    "# 3. 키 데이터 변환\n",
    "m = m*0.01"
   ]
  },
  {
   "cell_type": "code",
   "execution_count": null,
   "id": "f6e7a065",
   "metadata": {},
   "outputs": [],
   "source": [
    "# 4. 몸무게 데이터 변환 (몸무게/2.204) : 파운드 -> kg\n",
    "kg = kg/2.204"
   ]
  },
  {
   "cell_type": "code",
   "execution_count": null,
   "id": "5dd9c277",
   "metadata": {},
   "outputs": [],
   "source": [
    "# 5. BMI 지수 구해주기 # 지수 = m**2 도 됨\n",
    "BMI = kg/m**2"
   ]
  },
  {
   "cell_type": "code",
   "execution_count": null,
   "id": "0ac36cfa",
   "metadata": {},
   "outputs": [],
   "source": [
    "BMI"
   ]
  },
  {
   "cell_type": "markdown",
   "id": "f57cbfe3",
   "metadata": {},
   "source": [
    "### Boolean 인덱싱\n",
    "- 조건에 해당하는 (True)인 값들만 출력해준다"
   ]
  },
  {
   "cell_type": "code",
   "execution_count": null,
   "id": "165fdfb8",
   "metadata": {},
   "outputs": [],
   "source": [
    "#임의의 점수데이터 \n",
    "score = np.array([80,75,55,96,30])\n",
    "score"
   ]
  },
  {
   "cell_type": "code",
   "execution_count": null,
   "id": "e166e62e",
   "metadata": {},
   "outputs": [],
   "source": [
    "#현재는 단순한 논리연산만 해준 결과\n",
    "score>=80"
   ]
  },
  {
   "cell_type": "code",
   "execution_count": null,
   "id": "41a1f7c4",
   "metadata": {},
   "outputs": [],
   "source": [
    "# 논리연산이 참인 결과값만 출력해준다\n",
    "score[score>=80]"
   ]
  },
  {
   "cell_type": "code",
   "execution_count": null,
   "id": "535d0fe7",
   "metadata": {},
   "outputs": [],
   "source": [
    "name = np.array(['영화','새롬','성국','창규'])\n",
    "name"
   ]
  },
  {
   "cell_type": "code",
   "execution_count": null,
   "id": "54a82886",
   "metadata": {},
   "outputs": [],
   "source": [
    "bol = np.array([False, True, False, True]) # 앞글자는 대문자로 쓸것\n",
    "bol"
   ]
  },
  {
   "cell_type": "code",
   "execution_count": null,
   "id": "795ecf3d",
   "metadata": {},
   "outputs": [],
   "source": [
    "name[bol] # True 인 값만 가져옴"
   ]
  },
  {
   "cell_type": "code",
   "execution_count": null,
   "id": "322452ba",
   "metadata": {},
   "outputs": [],
   "source": [
    "score2 = np.array([[60,70],[70,80],[90,20],[100,60]])\n",
    "score2"
   ]
  },
  {
   "cell_type": "code",
   "execution_count": null,
   "id": "8dca2850",
   "metadata": {},
   "outputs": [],
   "source": [
    "# 내가 찾고자하는 이름이 있나?\n",
    "name == '유미'"
   ]
  },
  {
   "cell_type": "code",
   "execution_count": null,
   "id": "20fef605",
   "metadata": {},
   "outputs": [],
   "source": [
    "name == '성국'"
   ]
  },
  {
   "cell_type": "code",
   "execution_count": null,
   "id": "363f7298",
   "metadata": {},
   "outputs": [],
   "source": [
    "score2[name=='성국'] # 인덱스 자기 자리 번호값으로만 감 , name=='성국' 은 위에 [2]번자리 true 값 그대로 \n",
    "#score2 [2] 값으로 올라감"
   ]
  },
  {
   "cell_type": "markdown",
   "id": "c27ba9fb",
   "metadata": {},
   "source": [
    "### 범용함수 (Universally Funtion)\n",
    "- numpy에서 제공해주는 함수"
   ]
  },
  {
   "cell_type": "code",
   "execution_count": 28,
   "id": "4de36d98",
   "metadata": {},
   "outputs": [
    {
     "data": {
      "text/plain": [
       "6"
      ]
     },
     "execution_count": 28,
     "metadata": {},
     "output_type": "execute_result"
    }
   ],
   "source": [
    "\n",
    "#sum() : 합계를 구해주는 함수\n",
    "arr = np.array([1,2,3])\n",
    "arr.sum()"
   ]
  },
  {
   "cell_type": "code",
   "execution_count": 36,
   "id": "a813827e",
   "metadata": {},
   "outputs": [
    {
     "name": "stdout",
     "output_type": "stream",
     "text": [
      "[[ 1 10  8  2  2]\n",
      " [ 8  2  9  1  4]]\n",
      "47\n"
     ]
    }
   ],
   "source": [
    "# arr2 라고 하는 변수에 랜덤수 (1~10)이 담긴 크기가 2행 5열인 배열 생성후 더하기\n",
    "arr2=np.random.randint(1,11, size = (2,5))\n",
    "print(arr2)\n",
    "print(arr2.sum())"
   ]
  },
  {
   "cell_type": "code",
   "execution_count": 37,
   "id": "774e9f3a",
   "metadata": {},
   "outputs": [
    {
     "data": {
      "text/plain": [
       "47"
      ]
     },
     "execution_count": 37,
     "metadata": {},
     "output_type": "execute_result"
    }
   ],
   "source": [
    "np.sum(arr2) #<= 이렇게 써도 됨 또다른 방법으로 sum 함수 사용가능!"
   ]
  },
  {
   "cell_type": "code",
   "execution_count": 31,
   "id": "52ad3c81",
   "metadata": {},
   "outputs": [
    {
     "data": {
      "text/plain": [
       "5.5"
      ]
     },
     "execution_count": 31,
     "metadata": {},
     "output_type": "execute_result"
    }
   ],
   "source": [
    "# 평균을 구해주는 함수 : mean() -> 전체 요소값의 평균을 구해주는 함수\n",
    "arr2.mean()"
   ]
  },
  {
   "cell_type": "code",
   "execution_count": 32,
   "id": "d6070153",
   "metadata": {},
   "outputs": [
    {
     "data": {
      "text/plain": [
       "array([ 1,  4,  9, 16, 25])"
      ]
     },
     "execution_count": 32,
     "metadata": {},
     "output_type": "execute_result"
    }
   ],
   "source": [
    "# 제곱근을 구하는 함수 : sqrt\n",
    "arr3 = np.array([1,4,9,16,25])\n",
    "arr3"
   ]
  },
  {
   "cell_type": "code",
   "execution_count": 33,
   "id": "676ca7fb",
   "metadata": {
    "collapsed": true
   },
   "outputs": [
    {
     "ename": "AttributeError",
     "evalue": "'numpy.ndarray' object has no attribute 'sqrt'",
     "output_type": "error",
     "traceback": [
      "\u001b[1;31m---------------------------------------------------------------------------\u001b[0m",
      "\u001b[1;31mAttributeError\u001b[0m                            Traceback (most recent call last)",
      "Input \u001b[1;32mIn [33]\u001b[0m, in \u001b[0;36m<cell line: 1>\u001b[1;34m()\u001b[0m\n\u001b[1;32m----> 1\u001b[0m \u001b[43marr3\u001b[49m\u001b[38;5;241;43m.\u001b[39;49m\u001b[43msqrt\u001b[49m()\n",
      "\u001b[1;31mAttributeError\u001b[0m: 'numpy.ndarray' object has no attribute 'sqrt'"
     ]
    }
   ],
   "source": [
    "arr3.sqrt() #<- 이렇게 쓰면 안됨"
   ]
  },
  {
   "cell_type": "code",
   "execution_count": 35,
   "id": "9eea6d2f",
   "metadata": {},
   "outputs": [
    {
     "data": {
      "text/plain": [
       "array([1., 2., 3., 4., 5.])"
      ]
     },
     "execution_count": 35,
     "metadata": {},
     "output_type": "execute_result"
    }
   ],
   "source": [
    "np.sqrt(arr3) #<- 이렇게 써야 됨"
   ]
  },
  {
   "cell_type": "code",
   "execution_count": 45,
   "id": "d220e2eb",
   "metadata": {},
   "outputs": [
    {
     "data": {
      "text/plain": [
       "array([1, 2, 3, 4, 5])"
      ]
     },
     "execution_count": 45,
     "metadata": {},
     "output_type": "execute_result"
    }
   ],
   "source": [
    "#절대값을 구해주는 함수 : abs()\n",
    "np.abs([-1,2,-3,4,-5])"
   ]
  },
  {
   "cell_type": "markdown",
   "id": "9f448dc5",
   "metadata": {},
   "source": [
    "### 영화 평점 데이터 분석"
   ]
  },
  {
   "cell_type": "code",
   "execution_count": 48,
   "id": "ff9344ae",
   "metadata": {},
   "outputs": [
    {
     "data": {
      "text/plain": [
       "array([[        1,      1193,         5, 978300760],\n",
       "       [        1,       661,         3, 978302109],\n",
       "       [        1,       914,         3, 978301968],\n",
       "       ...,\n",
       "       [     6040,       562,         5, 956704746],\n",
       "       [     6040,      1096,         4, 956715648],\n",
       "       [     6040,      1097,         4, 956715569]])"
      ]
     },
     "execution_count": 48,
     "metadata": {},
     "output_type": "execute_result"
    }
   ],
   "source": [
    "# 데이터 가져오기!\n",
    "m_data = np.loadtxt('ratings.txt', delimiter = '::',dtype='int') # delimiter = 구분 \n",
    "# dtype='int' 닫는 소괄호 옆 + shift + tab : 툴팁 열어서 type 확인하고 float 타입을 -> int 타입으로 바꿔줌 \n",
    "m_data\n",
    "# 사용자 아이디, 영화 고유번호 , 영화 평점 , 영화 시간"
   ]
  },
  {
   "cell_type": "code",
   "execution_count": 49,
   "id": "35b758a5",
   "metadata": {},
   "outputs": [
    {
     "data": {
      "text/plain": [
       "2"
      ]
     },
     "execution_count": 49,
     "metadata": {},
     "output_type": "execute_result"
    }
   ],
   "source": [
    "#차원 -> 2차원\n",
    "m_data.ndim"
   ]
  },
  {
   "cell_type": "code",
   "execution_count": 50,
   "id": "421e9c77",
   "metadata": {},
   "outputs": [
    {
     "data": {
      "text/plain": [
       "(1000209, 4)"
      ]
     },
     "execution_count": 50,
     "metadata": {},
     "output_type": "execute_result"
    }
   ],
   "source": [
    "#크기 -> 1000209행 4열을 가지는 데이터\n",
    "m_data.shape"
   ]
  },
  {
   "cell_type": "code",
   "execution_count": 51,
   "id": "4c7518a2",
   "metadata": {},
   "outputs": [
    {
     "data": {
      "text/plain": [
       "4000836"
      ]
     },
     "execution_count": 51,
     "metadata": {},
     "output_type": "execute_result"
    }
   ],
   "source": [
    "#데이터의 개수 -> 4000836개의 데이터\n",
    "m_data.size"
   ]
  },
  {
   "cell_type": "markdown",
   "id": "4251df5d",
   "metadata": {},
   "source": [
    "- 전체평점의 평균 구하기~"
   ]
  },
  {
   "cell_type": "code",
   "execution_count": 60,
   "id": "af667636",
   "metadata": {},
   "outputs": [
    {
     "data": {
      "text/plain": [
       "3.581564453029317"
      ]
     },
     "execution_count": 60,
     "metadata": {},
     "output_type": "execute_result"
    }
   ],
   "source": [
    "#전체 자료에서 평점만 가져온 후에 평균 구해주기! -> 슬라이싱 이용하기\n",
    "np.mean(m_data[:,2]) # 전체행에서 3열만 가져옴"
   ]
  },
  {
   "cell_type": "markdown",
   "id": "80e08bd2",
   "metadata": {},
   "source": [
    "### 사용자별 평점 평균 구하기\n",
    "- 1번 사용자의 평점 평균 구하기"
   ]
  },
  {
   "cell_type": "code",
   "execution_count": 62,
   "id": "56bad176",
   "metadata": {},
   "outputs": [
    {
     "data": {
      "text/plain": [
       "array([   1,    2,    3, ..., 6038, 6039, 6040])"
      ]
     },
     "execution_count": 62,
     "metadata": {},
     "output_type": "execute_result"
    }
   ],
   "source": [
    "# 데이터 중복을 제거하고 출력해주는 함수 : np.unique()\n",
    "np.unique(m_data[:,0]) # 전체 행에서 0열만 가져옴\n",
    "#사용자 아이디만 가져오기"
   ]
  },
  {
   "cell_type": "code",
   "execution_count": 69,
   "id": "d4af2947",
   "metadata": {},
   "outputs": [
    {
     "data": {
      "text/plain": [
       "array([   1,    2,    3, ..., 6038, 6039, 6040])"
      ]
     },
     "execution_count": 69,
     "metadata": {},
     "output_type": "execute_result"
    }
   ],
   "source": [
    "# 1번 아이디를 가진 사용자만 가져오기 \n",
    "rating=np.unique(m_data[:,0])\n",
    "rating"
   ]
  },
  {
   "cell_type": "code",
   "execution_count": 76,
   "id": "e0e595fe",
   "metadata": {},
   "outputs": [],
   "source": [
    "# 전체에서 ==1 인 값을 논리값으로 true를 뱉어냄 그리고 m_data[true]값인 1인 데이터를 뱉음 (불리언 인덱싱)\n",
    "user1 = m_data[m_data[:,0]==1]"
   ]
  },
  {
   "cell_type": "code",
   "execution_count": 77,
   "id": "1341ae65",
   "metadata": {},
   "outputs": [
    {
     "data": {
      "text/plain": [
       "53"
      ]
     },
     "execution_count": 77,
     "metadata": {},
     "output_type": "execute_result"
    }
   ],
   "source": [
    "# user1 의 전체 길이\n",
    "len(user1)"
   ]
  },
  {
   "cell_type": "code",
   "execution_count": 78,
   "id": "d7136ad8",
   "metadata": {},
   "outputs": [
    {
     "data": {
      "text/plain": [
       "array([[        1,      1193,         5, 978300760],\n",
       "       [        1,       661,         3, 978302109],\n",
       "       [        1,       914,         3, 978301968],\n",
       "       [        1,      3408,         4, 978300275],\n",
       "       [        1,      2355,         5, 978824291],\n",
       "       [        1,      1197,         3, 978302268],\n",
       "       [        1,      1287,         5, 978302039],\n",
       "       [        1,      2804,         5, 978300719],\n",
       "       [        1,       594,         4, 978302268],\n",
       "       [        1,       919,         4, 978301368],\n",
       "       [        1,       595,         5, 978824268],\n",
       "       [        1,       938,         4, 978301752],\n",
       "       [        1,      2398,         4, 978302281],\n",
       "       [        1,      2918,         4, 978302124],\n",
       "       [        1,      1035,         5, 978301753],\n",
       "       [        1,      2791,         4, 978302188],\n",
       "       [        1,      2687,         3, 978824268],\n",
       "       [        1,      2018,         4, 978301777],\n",
       "       [        1,      3105,         5, 978301713],\n",
       "       [        1,      2797,         4, 978302039],\n",
       "       [        1,      2321,         3, 978302205],\n",
       "       [        1,       720,         3, 978300760],\n",
       "       [        1,      1270,         5, 978300055],\n",
       "       [        1,       527,         5, 978824195],\n",
       "       [        1,      2340,         3, 978300103],\n",
       "       [        1,        48,         5, 978824351],\n",
       "       [        1,      1097,         4, 978301953],\n",
       "       [        1,      1721,         4, 978300055],\n",
       "       [        1,      1545,         4, 978824139],\n",
       "       [        1,       745,         3, 978824268],\n",
       "       [        1,      2294,         4, 978824291],\n",
       "       [        1,      3186,         4, 978300019],\n",
       "       [        1,      1566,         4, 978824330],\n",
       "       [        1,       588,         4, 978824268],\n",
       "       [        1,      1907,         4, 978824330],\n",
       "       [        1,       783,         4, 978824291],\n",
       "       [        1,      1836,         5, 978300172],\n",
       "       [        1,      1022,         5, 978300055],\n",
       "       [        1,      2762,         4, 978302091],\n",
       "       [        1,       150,         5, 978301777],\n",
       "       [        1,         1,         5, 978824268],\n",
       "       [        1,      1961,         5, 978301590],\n",
       "       [        1,      1962,         4, 978301753],\n",
       "       [        1,      2692,         4, 978301570],\n",
       "       [        1,       260,         4, 978300760],\n",
       "       [        1,      1028,         5, 978301777],\n",
       "       [        1,      1029,         5, 978302205],\n",
       "       [        1,      1207,         4, 978300719],\n",
       "       [        1,      2028,         5, 978301619],\n",
       "       [        1,       531,         4, 978302149],\n",
       "       [        1,      3114,         4, 978302174],\n",
       "       [        1,       608,         4, 978301398],\n",
       "       [        1,      1246,         4, 978302091]])"
      ]
     },
     "execution_count": 78,
     "metadata": {},
     "output_type": "execute_result"
    }
   ],
   "source": [
    "user1"
   ]
  },
  {
   "cell_type": "code",
   "execution_count": 81,
   "id": "b61e109f",
   "metadata": {},
   "outputs": [
    {
     "data": {
      "text/plain": [
       "4.188679245283019"
      ]
     },
     "execution_count": 81,
     "metadata": {},
     "output_type": "execute_result"
    }
   ],
   "source": [
    "#인덱싱한 자료에서 평점만 가져오기 -> 평균구하기! \n",
    "avg1=np.mean(user1[:,2])\n",
    "avg1\n",
    "#user1[:,2].mean() 도 됨"
   ]
  },
  {
   "cell_type": "markdown",
   "id": "757acfc0",
   "metadata": {},
   "source": [
    "- 전체 사용자의 각각 평균 평점 구해주기 !"
   ]
  },
  {
   "cell_type": "code",
   "execution_count": 83,
   "id": "a638292f",
   "metadata": {},
   "outputs": [
    {
     "data": {
      "text/plain": [
       "array([   1,    2,    3, ..., 6038, 6039, 6040])"
      ]
     },
     "execution_count": 83,
     "metadata": {},
     "output_type": "execute_result"
    }
   ],
   "source": [
    "user_uni=np.unique(m_data[:,0])"
   ]
  },
  {
   "cell_type": "code",
   "execution_count": null,
   "id": "9db39ad9",
   "metadata": {},
   "outputs": [],
   "source": []
  },
  {
   "cell_type": "code",
   "execution_count": null,
   "id": "f0e159ef",
   "metadata": {},
   "outputs": [],
   "source": []
  },
  {
   "cell_type": "code",
   "execution_count": null,
   "id": "0c7ba662",
   "metadata": {},
   "outputs": [],
   "source": []
  },
  {
   "cell_type": "code",
   "execution_count": null,
   "id": "76f9c8d3",
   "metadata": {},
   "outputs": [],
   "source": []
  },
  {
   "cell_type": "code",
   "execution_count": null,
   "id": "db69cefd",
   "metadata": {},
   "outputs": [],
   "source": []
  },
  {
   "cell_type": "code",
   "execution_count": null,
   "id": "0e67d99d",
   "metadata": {},
   "outputs": [],
   "source": []
  },
  {
   "cell_type": "code",
   "execution_count": null,
   "id": "138da695",
   "metadata": {},
   "outputs": [],
   "source": []
  },
  {
   "cell_type": "code",
   "execution_count": null,
   "id": "2aa02685",
   "metadata": {},
   "outputs": [],
   "source": []
  },
  {
   "cell_type": "code",
   "execution_count": null,
   "id": "cccbc5c4",
   "metadata": {},
   "outputs": [],
   "source": []
  }
 ],
 "metadata": {
  "kernelspec": {
   "display_name": "Python 3 (ipykernel)",
   "language": "python",
   "name": "python3"
  },
  "language_info": {
   "codemirror_mode": {
    "name": "ipython",
    "version": 3
   },
   "file_extension": ".py",
   "mimetype": "text/x-python",
   "name": "python",
   "nbconvert_exporter": "python",
   "pygments_lexer": "ipython3",
   "version": "3.9.12"
  }
 },
 "nbformat": 4,
 "nbformat_minor": 5
}
