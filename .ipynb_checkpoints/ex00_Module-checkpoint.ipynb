{
 "cells": [
  {
   "cell_type": "markdown",
   "id": "73067d29",
   "metadata": {},
   "source": [
    "### 모듈 사용하기!\n",
    "- 현재 script 파일과 모듈(.py)파일이 같은 공간에 위치해야한다"
   ]
  },
  {
   "cell_type": "code",
   "execution_count": 1,
   "id": "e8a5c833",
   "metadata": {},
   "outputs": [],
   "source": [
    "#라이브러리 로딩하는 방법\n",
    "#로딩할때는 저장해준 파일이름과 똑같아야 한다\n",
    "import Module as md"
   ]
  },
  {
   "cell_type": "code",
   "execution_count": 2,
   "id": "46eeb41b",
   "metadata": {},
   "outputs": [
    {
     "data": {
      "text/plain": [
       "11"
      ]
     },
     "execution_count": 2,
     "metadata": {},
     "output_type": "execute_result"
    }
   ],
   "source": [
    "#md. tab ---> 함수 몇개있네 ~ 알 수 있다.\n",
    "md.add_num(4,7)"
   ]
  },
  {
   "cell_type": "code",
   "execution_count": 3,
   "id": "949bc6db",
   "metadata": {},
   "outputs": [
    {
     "ename": "AttributeError",
     "evalue": "module 'Module' has no attribute 'sub_num'",
     "output_type": "error",
     "traceback": [
      "\u001b[1;31m---------------------------------------------------------------------------\u001b[0m",
      "\u001b[1;31mAttributeError\u001b[0m                            Traceback (most recent call last)",
      "Input \u001b[1;32mIn [3]\u001b[0m, in \u001b[0;36m<cell line: 1>\u001b[1;34m()\u001b[0m\n\u001b[1;32m----> 1\u001b[0m \u001b[43mmd\u001b[49m\u001b[38;5;241;43m.\u001b[39;49m\u001b[43msub_num\u001b[49m(\u001b[38;5;241m4\u001b[39m,\u001b[38;5;241m7\u001b[39m)\n",
      "\u001b[1;31mAttributeError\u001b[0m: module 'Module' has no attribute 'sub_num'"
     ]
    }
   ],
   "source": [
    "md.sub_num(4,7)"
   ]
  },
  {
   "cell_type": "markdown",
   "id": "8cc6c912",
   "metadata": {},
   "source": [
    "### 특정 함수만 불러오는 방법"
   ]
  },
  {
   "cell_type": "code",
   "execution_count": null,
   "id": "fa577362",
   "metadata": {},
   "outputs": [],
   "source": [
    "from Module import add_num"
   ]
  },
  {
   "cell_type": "code",
   "execution_count": null,
   "id": "341e7b6b",
   "metadata": {},
   "outputs": [],
   "source": [
    "add_num(4,7)"
   ]
  },
  {
   "cell_type": "code",
   "execution_count": null,
   "id": "a6de15fd",
   "metadata": {},
   "outputs": [],
   "source": []
  }
 ],
 "metadata": {
  "kernelspec": {
   "display_name": "Python 3 (ipykernel)",
   "language": "python",
   "name": "python3"
  },
  "language_info": {
   "codemirror_mode": {
    "name": "ipython",
    "version": 3
   },
   "file_extension": ".py",
   "mimetype": "text/x-python",
   "name": "python",
   "nbconvert_exporter": "python",
   "pygments_lexer": "ipython3",
   "version": "3.9.12"
  }
 },
 "nbformat": 4,
 "nbformat_minor": 5
}
