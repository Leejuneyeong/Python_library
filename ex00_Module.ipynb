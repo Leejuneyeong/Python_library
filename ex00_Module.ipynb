{
 "cells": [
  {
   "cell_type": "markdown",
   "id": "cdd451b0",
   "metadata": {},
   "source": [
    "### 모듈 사용하기!\n",
    "- 현재 script 파일과 모듈(.py)파일이 같은 공간에 위치해야한다"
   ]
  },
  {
   "cell_type": "code",
   "execution_count": null,
   "id": "c9081da9",
   "metadata": {},
   "outputs": [],
   "source": [
    "#라이브러리 로딩하는 방법\n",
    "#로딩할때는 저장해준 파일이름과 똑같아야 한다\n",
    "import Module as md"
   ]
  },
  {
   "cell_type": "code",
   "execution_count": null,
   "id": "4cc57c62",
   "metadata": {},
   "outputs": [],
   "source": [
    "#md. tab ---> 함수 몇개있네 ~ 알 수 있다.\n",
    "md.add_num(4,7)"
   ]
  },
  {
   "cell_type": "code",
   "execution_count": null,
   "id": "f99fd755",
   "metadata": {},
   "outputs": [],
   "source": [
    "md.sub_num(4,7)"
   ]
  },
  {
   "cell_type": "markdown",
   "id": "948f2d35",
   "metadata": {},
   "source": [
    "### 특정 함수만 불러오는 방법"
   ]
  },
  {
   "cell_type": "code",
   "execution_count": null,
   "id": "749de37f",
   "metadata": {},
   "outputs": [],
   "source": [
    "from Module import add_num"
   ]
  },
  {
   "cell_type": "code",
   "execution_count": null,
   "id": "6d7a7108",
   "metadata": {},
   "outputs": [],
   "source": [
    "#특정 함수만 가지고왔을때는 모듈이름.함수이름 X\n",
    "#그냥 함수이름만 호출해주면 된다~\n",
    "add_num(4,7)"
   ]
  },
  {
   "cell_type": "markdown",
   "id": "6fb6721a",
   "metadata": {},
   "source": [
    "- 라이브러리 로딩하는 방법(2가지)\n",
    "    1. 라이브러리 자체를 로딩하는 방법\n",
    "    2. 라이브러리 안에서 필요한 함수만 골라서 로딩하는 방법"
   ]
  }
 ],
 "metadata": {
  "kernelspec": {
   "display_name": "Python 3 (ipykernel)",
   "language": "python",
   "name": "python3"
  },
  "language_info": {
   "codemirror_mode": {
    "name": "ipython",
    "version": 3
   },
   "file_extension": ".py",
   "mimetype": "text/x-python",
   "name": "python",
   "nbconvert_exporter": "python",
   "pygments_lexer": "ipython3",
   "version": "3.9.12"
  }
 },
 "nbformat": 4,
 "nbformat_minor": 5
}
